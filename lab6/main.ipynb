{
 "cells": [
  {
   "cell_type": "code",
   "execution_count": 1,
   "metadata": {},
   "outputs": [],
   "source": [
    "import pandas as pd\n",
    "import matplotlib.pyplot as plt\n",
    "import subprocess\n",
    "import numpy as np\n",
    "import json\n",
    "import os"
   ]
  },
  {
   "cell_type": "code",
   "execution_count": 2,
   "metadata": {},
   "outputs": [],
   "source": [
    "changeConfig = input(\"Хотите ли вы изменить файл кофигурации? (Y/n): \")\n",
    "\n",
    "if (changeConfig == 'Y') or (changeConfig == 'y'):\n",
    "\n",
    "    with open('config.json', 'r') as file:\n",
    "        data = json.load(file)\n",
    "\n",
    "    data['UserParameters']['PathInitialAge'] = input(\"Укажите путь к файлу с первоначальным возрастным составом населения: \") or \"D:\\proga\\sem3\\lab6\\InitialAge.csv\"\n",
    "    data['UserParameters']['PathDeathRules'] = input(\"Укажите путь к файлу с таблицей смертности: \") or \"D:\\proga\\sem3\\lab6\\DeathRules.csv\"\n",
    "    data['UserParameters']['StartYear'] = int(input(\"Введите год начала моделирования (по умолчанию 1970): \") or 1970)\n",
    "    data['UserParameters']['EndYear'] = int(input(\"Введите год окончания моделирования (по умолчанию 2021): \") or 2021)\n",
    "    data['UserParameters']['OriginalPopulation'] = input(\"Введите начальную общую численность населения (по умолчанию 130 млн.): \") or 130000000\n",
    "\n",
    "    print(data)\n",
    "    \n",
    "    with open('config.json', 'w') as file:\n",
    "        json.dump(data, file, indent=4)\n",
    "else:\n",
    "    with open('config.json', 'r') as file:\n",
    "        data = json.load(file)\n",
    "\n",
    "start_year = int(data['UserParameters']['StartYear'])\n",
    "end_year = int(data['UserParameters']['EndYear'])"
   ]
  },
  {
   "cell_type": "code",
   "execution_count": 3,
   "metadata": {},
   "outputs": [
    {
     "name": "stdout",
     "output_type": "stream",
     "text": [
      "CompletedProcess(args=['exe\\\\Demographic.Exec.exe', 'D:\\\\proga\\\\sem3\\\\lab6\\\\config.json'], returncode=0, stdout='145990\\nPopulation: 166759\\nAlive: 166759\\nDead: 278274\\nCSV-д\\xa0©« б®§¤\\xa0\\xad: \\nPopulation.csv\\n', stderr='')\n",
      "Population.csv\n"
     ]
    }
   ],
   "source": [
    "exe = subprocess.run(['exe\\Demographic.Exec.exe', \"D:\\proga\\sem3\\lab6\\config.json\"], capture_output=True, text=True)\n",
    "\n",
    "print(exe)\n",
    "\n",
    "output = exe.stdout\n",
    "lines = output.splitlines()\n",
    "path = lines[-1]\n",
    "\n",
    "print(path)"
   ]
  },
  {
   "cell_type": "code",
   "execution_count": 4,
   "metadata": {},
   "outputs": [],
   "source": [
    "path = \"D:\\proga\\sem3\\lab6\\populationInfo.csv\"\n",
    "data = pd.read_csv(path)\n",
    "\n",
    "data.head()\n",
    "\n",
    "header = pd.read_csv(path, nrows=0).columns.tolist()\n",
    "error = False\n",
    "error_message = \"\"\n",
    "\n",
    "for col in header:\n",
    "    if 'Ошибка' in col:\n",
    "        error = True\n",
    "        error_message = col\n",
    "        os.remove(path)\n",
    "        break"
   ]
  },
  {
   "cell_type": "code",
   "execution_count": 5,
   "metadata": {},
   "outputs": [],
   "source": [
    "def analysis_file():\n",
    "    years = range(start_year - 100, end_year + 1)\n",
    "    print(years)\n",
    "    population_over_years = pd.DataFrame(index=years)\n",
    "\n",
    "    # Инициализация колонок для общего населения, мужского и женского\n",
    "    population_over_years['Total'] = 0\n",
    "    population_over_years['Male'] = 0\n",
    "    population_over_years['Female'] = 0\n",
    "    population_over_years['Births'] = 0  # Количество рождений\n",
    "    population_over_years['Deaths'] = 0  # Количество смертей\n",
    "\n",
    "    # Преобразование данных для векторизации\n",
    "    data['Alive'] = (data['Birth_Year'] <= end_year) & ((data['Death_Year'] > end_year) | pd.isna(data['Death_Year']))\n",
    "\n",
    "    # Подсчет общего населения по годам с использованием векторизации\n",
    "    for year in years:\n",
    "        # Фильтруем людей, которые были живы в данный год\n",
    "        alive_mask = (data['Birth_Year'] <= year) & ((data['Death_Year'] > year) | pd.isna(data['Death_Year']))\n",
    "        \n",
    "        population_over_years.loc[year, 'Total'] = alive_mask.sum()\n",
    "        population_over_years.loc[year, 'Male'] = (alive_mask & (data['Sex'] == 'Male')).sum()\n",
    "        population_over_years.loc[year, 'Female'] = (alive_mask & (data['Sex'] == 'Female')).sum()\n",
    "\n",
    "        population_over_years.loc[year, 'Births'] = ((data['Birth_Year'] == year)).sum()\n",
    "        population_over_years.loc[year, 'Deaths'] = ((data['Death_Year'] == year)).sum()\n",
    "\n",
    "    return population_over_years[(population_over_years['Births'] > 0) | (population_over_years['Deaths'] > 0)]"
   ]
  },
  {
   "cell_type": "code",
   "execution_count": 6,
   "metadata": {},
   "outputs": [],
   "source": [
    "def draw_total_population(filtered_population_data):\n",
    "    plt.figure(figsize=(18, 6))\n",
    "    print(filtered_population_data)\n",
    "\n",
    "    plt.plot(filtered_population_data.index, filtered_population_data['Total'], label='Общее население', marker='o')\n",
    "    plt.plot(filtered_population_data.index, filtered_population_data['Male'], label='Мужское население', marker='o', color='blue')\n",
    "    plt.plot(filtered_population_data.index, filtered_population_data['Female'], label='Женское население', marker='o', color='red')\n",
    "\n",
    "    plt.axvline(x=start_year, color='red', linestyle='--', label='Начало периода')\n",
    "    plt.axvline(x=end_year, color='red', linestyle='--', label='Конец периода')\n",
    "    \n",
    "    plt.title('Изменение общего населения по годам')\n",
    "    plt.xlabel('Год')\n",
    "    plt.ylabel('Количество людей (в тыс)')\n",
    "    plt.legend()\n",
    "    plt.grid()\n",
    "    plt.show()"
   ]
  },
  {
   "cell_type": "code",
   "execution_count": 7,
   "metadata": {},
   "outputs": [],
   "source": [
    "def draw_birthAndDeath(filtered_population_data):\n",
    "    plt.figure(figsize=(12, 6))\n",
    "    plt.plot(filtered_population_data.index, filtered_population_data['Births'], label='Рождаемость', marker='o', color='green')\n",
    "    plt.plot(filtered_population_data.index, filtered_population_data['Deaths'], label='Смертность', marker='o', color='orange')\n",
    "\n",
    "    #plt.axvline(x=start_year, color='red', linestyle='--', label='Начало периода')\n",
    "    #plt.axvline(x=end_year, color='red', linestyle='--', label='Конец периода')\n",
    "\n",
    "    plt.title('Рождаемость и смертность по годам')\n",
    "    plt.xlabel('Год')\n",
    "    plt.ylabel('Количество (в тыс.)')\n",
    "    plt.legend()\n",
    "    plt.tight_layout()\n",
    "    plt.grid()\n",
    "    plt.show()"
   ]
  },
  {
   "cell_type": "code",
   "execution_count": 8,
   "metadata": {},
   "outputs": [],
   "source": [
    "def draw_bins():\n",
    "    age_bins = ['0 - 18', '19 - 44', '45 - 65', '66 - 100']\n",
    "    \n",
    "    alive_condition = (data['Death_Year'].isnull()) | (data['Death_Year'] > end_year)\n",
    "    # Подсчет возрастного состава для мужчин\n",
    "    male_counts = [\n",
    "       ((data['Birth_Year'] > end_year - 18) & \n",
    "        (data['Birth_Year'] <= end_year) & \n",
    "        (data['Sex'] == 'Male') &alive_condition).sum(),\n",
    "       ((data['Birth_Year'] > end_year - 44) & \n",
    "        (data['Birth_Year'] <= end_year - 19) & \n",
    "        (data['Sex'] == 'Male') & alive_condition).sum(),\n",
    "       ((data['Birth_Year'] > end_year - 65) & \n",
    "        (data['Birth_Year'] <= end_year - 45) & \n",
    "        (data['Sex'] == 'Male') & alive_condition).sum(),\n",
    "       ((data['Birth_Year'] <= end_year - 66) & \n",
    "        (data['Sex'] == 'Male') & alive_condition).sum()\n",
    "   ]\n",
    "    # Подсчет возрастного состава для женщин\n",
    "    female_counts = [\n",
    "       ((data['Birth_Year'] > end_year - 18 - 18) & \n",
    "        (data['Birth_Year'] <= end_year - 18) & \n",
    "        (data['Sex'] == 'Female') & \n",
    "        alive_condition).sum(),\n",
    "       ((data['Birth_Year'] > end_year - 44) & \n",
    "        (data['Birth_Year'] <= end_year - 19) & \n",
    "        (data['Sex'] == 'Female') & alive_condition).sum(),\n",
    "       ((data['Birth_Year'] > end_year - 65) & \n",
    "        (data['Birth_Year'] <= end_year - 45) & \n",
    "        (data['Sex'] == 'Female') & alive_condition).sum(),\n",
    "       ((data['Birth_Year'] <= end_year - 66) & \n",
    "        (data['Sex'] == 'Female') & alive_condition).sum()\n",
    "   ]\n",
    "   \n",
    "\n",
    "\n",
    "    # Настройка ширины столбцов\n",
    "    width = 0.35  # ширина столбца\n",
    "\n",
    "    # Позиции для мужчин и женщин\n",
    "    x = range(len(age_bins))\n",
    "    \n",
    "    # Построение графика\n",
    "    plt.bar(x, male_counts, width, label='Мужчины', color='blue', align='center')\n",
    "    plt.bar([p + width for p in x], female_counts, width, label='Женщины', color='pink', align='center')\n",
    "\n",
    "    # Настройка графика\n",
    "    plt.title('Возрастной состав населения по полу')\n",
    "    plt.xlabel('Возрастные категории')\n",
    "    plt.ylabel('Количество (в тыс.)')\n",
    "    plt.xticks([p + width / 2 for p in x], age_bins)\n",
    "    plt.legend()\n",
    "\n",
    "    plt.tight_layout()\n",
    "    plt.grid()\n",
    "    plt.show()"
   ]
  },
  {
   "cell_type": "code",
   "execution_count": 9,
   "metadata": {},
   "outputs": [
    {
     "name": "stdout",
     "output_type": "stream",
     "text": [
      "range(1870, 2022)\n"
     ]
    },
    {
     "ename": "KeyError",
     "evalue": "'Birth_Year'",
     "output_type": "error",
     "traceback": [
      "\u001b[1;31m---------------------------------------------------------------------------\u001b[0m",
      "\u001b[1;31mKeyError\u001b[0m                                  Traceback (most recent call last)",
      "File \u001b[1;32m~\\AppData\\Roaming\\Python\\Python39\\site-packages\\pandas\\core\\indexes\\base.py:3805\u001b[0m, in \u001b[0;36mIndex.get_loc\u001b[1;34m(self, key)\u001b[0m\n\u001b[0;32m   3804\u001b[0m \u001b[38;5;28;01mtry\u001b[39;00m:\n\u001b[1;32m-> 3805\u001b[0m     \u001b[38;5;28;01mreturn\u001b[39;00m \u001b[38;5;28;43mself\u001b[39;49m\u001b[38;5;241;43m.\u001b[39;49m\u001b[43m_engine\u001b[49m\u001b[38;5;241;43m.\u001b[39;49m\u001b[43mget_loc\u001b[49m\u001b[43m(\u001b[49m\u001b[43mcasted_key\u001b[49m\u001b[43m)\u001b[49m\n\u001b[0;32m   3806\u001b[0m \u001b[38;5;28;01mexcept\u001b[39;00m \u001b[38;5;167;01mKeyError\u001b[39;00m \u001b[38;5;28;01mas\u001b[39;00m err:\n",
      "File \u001b[1;32mindex.pyx:167\u001b[0m, in \u001b[0;36mpandas._libs.index.IndexEngine.get_loc\u001b[1;34m()\u001b[0m\n",
      "File \u001b[1;32mindex.pyx:196\u001b[0m, in \u001b[0;36mpandas._libs.index.IndexEngine.get_loc\u001b[1;34m()\u001b[0m\n",
      "File \u001b[1;32mpandas\\\\_libs\\\\hashtable_class_helper.pxi:7081\u001b[0m, in \u001b[0;36mpandas._libs.hashtable.PyObjectHashTable.get_item\u001b[1;34m()\u001b[0m\n",
      "File \u001b[1;32mpandas\\\\_libs\\\\hashtable_class_helper.pxi:7089\u001b[0m, in \u001b[0;36mpandas._libs.hashtable.PyObjectHashTable.get_item\u001b[1;34m()\u001b[0m\n",
      "\u001b[1;31mKeyError\u001b[0m: 'Birth_Year'",
      "\nThe above exception was the direct cause of the following exception:\n",
      "\u001b[1;31mKeyError\u001b[0m                                  Traceback (most recent call last)",
      "Cell \u001b[1;32mIn[9], line 4\u001b[0m\n\u001b[0;32m      2\u001b[0m     \u001b[38;5;28mprint\u001b[39m(error_message)\n\u001b[0;32m      3\u001b[0m \u001b[38;5;28;01melse\u001b[39;00m:\n\u001b[1;32m----> 4\u001b[0m     population_data \u001b[38;5;241m=\u001b[39m \u001b[43manalysis_file\u001b[49m\u001b[43m(\u001b[49m\u001b[43m)\u001b[49m\n\u001b[0;32m      5\u001b[0m     draw_total_population(population_data)\n\u001b[0;32m      6\u001b[0m     draw_birthAndDeath(population_data)\n",
      "Cell \u001b[1;32mIn[5], line 14\u001b[0m, in \u001b[0;36manalysis_file\u001b[1;34m()\u001b[0m\n\u001b[0;32m     11\u001b[0m population_over_years[\u001b[38;5;124m'\u001b[39m\u001b[38;5;124mDeaths\u001b[39m\u001b[38;5;124m'\u001b[39m] \u001b[38;5;241m=\u001b[39m \u001b[38;5;241m0\u001b[39m  \u001b[38;5;66;03m# Количество смертей\u001b[39;00m\n\u001b[0;32m     13\u001b[0m \u001b[38;5;66;03m# Преобразование данных для векторизации\u001b[39;00m\n\u001b[1;32m---> 14\u001b[0m data[\u001b[38;5;124m'\u001b[39m\u001b[38;5;124mAlive\u001b[39m\u001b[38;5;124m'\u001b[39m] \u001b[38;5;241m=\u001b[39m (\u001b[43mdata\u001b[49m\u001b[43m[\u001b[49m\u001b[38;5;124;43m'\u001b[39;49m\u001b[38;5;124;43mBirth_Year\u001b[39;49m\u001b[38;5;124;43m'\u001b[39;49m\u001b[43m]\u001b[49m \u001b[38;5;241m<\u001b[39m\u001b[38;5;241m=\u001b[39m end_year) \u001b[38;5;241m&\u001b[39m ((data[\u001b[38;5;124m'\u001b[39m\u001b[38;5;124mDeath_Year\u001b[39m\u001b[38;5;124m'\u001b[39m] \u001b[38;5;241m>\u001b[39m end_year) \u001b[38;5;241m|\u001b[39m pd\u001b[38;5;241m.\u001b[39misna(data[\u001b[38;5;124m'\u001b[39m\u001b[38;5;124mDeath_Year\u001b[39m\u001b[38;5;124m'\u001b[39m]))\n\u001b[0;32m     16\u001b[0m \u001b[38;5;66;03m# Подсчет общего населения по годам с использованием векторизации\u001b[39;00m\n\u001b[0;32m     17\u001b[0m \u001b[38;5;28;01mfor\u001b[39;00m year \u001b[38;5;129;01min\u001b[39;00m years:\n\u001b[0;32m     18\u001b[0m     \u001b[38;5;66;03m# Фильтруем людей, которые были живы в данный год\u001b[39;00m\n",
      "File \u001b[1;32m~\\AppData\\Roaming\\Python\\Python39\\site-packages\\pandas\\core\\frame.py:4102\u001b[0m, in \u001b[0;36mDataFrame.__getitem__\u001b[1;34m(self, key)\u001b[0m\n\u001b[0;32m   4100\u001b[0m \u001b[38;5;28;01mif\u001b[39;00m \u001b[38;5;28mself\u001b[39m\u001b[38;5;241m.\u001b[39mcolumns\u001b[38;5;241m.\u001b[39mnlevels \u001b[38;5;241m>\u001b[39m \u001b[38;5;241m1\u001b[39m:\n\u001b[0;32m   4101\u001b[0m     \u001b[38;5;28;01mreturn\u001b[39;00m \u001b[38;5;28mself\u001b[39m\u001b[38;5;241m.\u001b[39m_getitem_multilevel(key)\n\u001b[1;32m-> 4102\u001b[0m indexer \u001b[38;5;241m=\u001b[39m \u001b[38;5;28;43mself\u001b[39;49m\u001b[38;5;241;43m.\u001b[39;49m\u001b[43mcolumns\u001b[49m\u001b[38;5;241;43m.\u001b[39;49m\u001b[43mget_loc\u001b[49m\u001b[43m(\u001b[49m\u001b[43mkey\u001b[49m\u001b[43m)\u001b[49m\n\u001b[0;32m   4103\u001b[0m \u001b[38;5;28;01mif\u001b[39;00m is_integer(indexer):\n\u001b[0;32m   4104\u001b[0m     indexer \u001b[38;5;241m=\u001b[39m [indexer]\n",
      "File \u001b[1;32m~\\AppData\\Roaming\\Python\\Python39\\site-packages\\pandas\\core\\indexes\\base.py:3812\u001b[0m, in \u001b[0;36mIndex.get_loc\u001b[1;34m(self, key)\u001b[0m\n\u001b[0;32m   3807\u001b[0m     \u001b[38;5;28;01mif\u001b[39;00m \u001b[38;5;28misinstance\u001b[39m(casted_key, \u001b[38;5;28mslice\u001b[39m) \u001b[38;5;129;01mor\u001b[39;00m (\n\u001b[0;32m   3808\u001b[0m         \u001b[38;5;28misinstance\u001b[39m(casted_key, abc\u001b[38;5;241m.\u001b[39mIterable)\n\u001b[0;32m   3809\u001b[0m         \u001b[38;5;129;01mand\u001b[39;00m \u001b[38;5;28many\u001b[39m(\u001b[38;5;28misinstance\u001b[39m(x, \u001b[38;5;28mslice\u001b[39m) \u001b[38;5;28;01mfor\u001b[39;00m x \u001b[38;5;129;01min\u001b[39;00m casted_key)\n\u001b[0;32m   3810\u001b[0m     ):\n\u001b[0;32m   3811\u001b[0m         \u001b[38;5;28;01mraise\u001b[39;00m InvalidIndexError(key)\n\u001b[1;32m-> 3812\u001b[0m     \u001b[38;5;28;01mraise\u001b[39;00m \u001b[38;5;167;01mKeyError\u001b[39;00m(key) \u001b[38;5;28;01mfrom\u001b[39;00m \u001b[38;5;21;01merr\u001b[39;00m\n\u001b[0;32m   3813\u001b[0m \u001b[38;5;28;01mexcept\u001b[39;00m \u001b[38;5;167;01mTypeError\u001b[39;00m:\n\u001b[0;32m   3814\u001b[0m     \u001b[38;5;66;03m# If we have a listlike key, _check_indexing_error will raise\u001b[39;00m\n\u001b[0;32m   3815\u001b[0m     \u001b[38;5;66;03m#  InvalidIndexError. Otherwise we fall through and re-raise\u001b[39;00m\n\u001b[0;32m   3816\u001b[0m     \u001b[38;5;66;03m#  the TypeError.\u001b[39;00m\n\u001b[0;32m   3817\u001b[0m     \u001b[38;5;28mself\u001b[39m\u001b[38;5;241m.\u001b[39m_check_indexing_error(key)\n",
      "\u001b[1;31mKeyError\u001b[0m: 'Birth_Year'"
     ]
    }
   ],
   "source": [
    "if error == True:\n",
    "    print(error_message)\n",
    "else:\n",
    "    population_data = analysis_file()\n",
    "    draw_total_population(population_data)\n",
    "    draw_birthAndDeath(population_data)\n",
    "    draw_bins()\n",
    "    "
   ]
  }
 ],
 "metadata": {
  "kernelspec": {
   "display_name": "Python 3",
   "language": "python",
   "name": "python3"
  },
  "language_info": {
   "codemirror_mode": {
    "name": "ipython",
    "version": 3
   },
   "file_extension": ".py",
   "mimetype": "text/x-python",
   "name": "python",
   "nbconvert_exporter": "python",
   "pygments_lexer": "ipython3",
   "version": "3.9.13"
  }
 },
 "nbformat": 4,
 "nbformat_minor": 2
}
